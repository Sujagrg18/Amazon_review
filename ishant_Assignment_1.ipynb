{
  "nbformat": 4,
  "nbformat_minor": 0,
  "metadata": {
    "colab": {
      "provenance": []
    },
    "kernelspec": {
      "name": "python3",
      "display_name": "Python 3"
    },
    "language_info": {
      "name": "python"
    }
  },
  "cells": [
    {
      "cell_type": "code",
      "source": [
        "# 1\n",
        "\n",
        "from pyspark.sql import SparkSession\n",
        "\n",
        "# Initialize Spark session\n",
        "spark = SparkSession.builder.appName(\"DataAnalysis\").getOrCreate()\n",
        "\n",
        "# Load the datasets\n",
        "train_df = spark.read.csv(\"/content/test.csv\", header=True, inferSchema=True)\n",
        "test_df = spark.read.csv(\"/content/test.csv\", header=True, inferSchema=True)\n",
        "\n",
        "# Display the schema\n",
        "train_df.printSchema()"
      ],
      "metadata": {
        "colab": {
          "base_uri": "https://localhost:8080/"
        },
        "id": "J1VKy3SSC9Zx",
        "outputId": "0b48eac7-30d9-4875-a732-592639edeb2d"
      },
      "execution_count": 1,
      "outputs": [
        {
          "output_type": "stream",
          "name": "stdout",
          "text": [
            "root\n",
            " |-- 2: integer (nullable = true)\n",
            " |-- Great CD: string (nullable = true)\n",
            " |-- \"My lovely Pat has one of the GREAT voices of her generation. I have listened to this CD for YEARS and I still LOVE IT. When I'm in a good mood it makes me feel better. A bad mood just evaporates like sugar in the rain. This CD just oozes LIFE. Vocals are jusat STUUNNING and lyrics just kill. One of life's hidden gems. This is a desert isle CD in my book. Why she never made it big is just beyond me. Everytime I play this, no matter black, white, young, old, male, female EVERYBODY says one thing \"\"Who was that singing ?\"\"\": string (nullable = true)\n",
            "\n"
          ]
        }
      ]
    },
    {
      "cell_type": "code",
      "source": [
        "# Rename the problematic column\n",
        "# Get the list of column names\n",
        "old_columns = train_df.columns\n",
        "\n",
        "# Assuming the problematic column is the first one (index 0), replace it with a new name\n",
        "# Adjust the index if it's a different column\n",
        "new_columns = ['review_text' if col == old_columns[0] else col for col in old_columns]\n",
        "\n",
        "# Rename the columns in the DataFrame\n",
        "train_df = train_df.toDF(*new_columns)\n"
      ],
      "metadata": {
        "id": "RKxD8YghDkUv"
      },
      "execution_count": 2,
      "outputs": []
    },
    {
      "cell_type": "code",
      "source": [
        "# Show the first 10 rows\n",
        "train_df.show(10)"
      ],
      "metadata": {
        "colab": {
          "base_uri": "https://localhost:8080/"
        },
        "id": "dMk72ef6DD3N",
        "outputId": "7aca054b-6b75-45c4-c54b-71faa72ef1b4"
      },
      "execution_count": 3,
      "outputs": [
        {
          "output_type": "stream",
          "name": "stdout",
          "text": [
            "+-----------+--------------------+-----------------------------------------------------------------------------------------------------------------------------------------------------------------------------------------------------------------------------------------------------------------------------------------------------------------------------------------------------------------------------------------------------------------------------------------------------------------------------------------------------------------------------------------------+\n",
            "|review_text|            Great CD|\"My lovely Pat has one of the GREAT voices of her generation. I have listened to this CD for YEARS and I still LOVE IT. When I'm in a good mood it makes me feel better. A bad mood just evaporates like sugar in the rain. This CD just oozes LIFE. Vocals are jusat STUUNNING and lyrics just kill. One of life's hidden gems. This is a desert isle CD in my book. Why she never made it big is just beyond me. Everytime I play this, no matter black, white, young, old, male, female EVERYBODY says one thing \"\"Who was that singing ?\"\"\"|\n",
            "+-----------+--------------------+-----------------------------------------------------------------------------------------------------------------------------------------------------------------------------------------------------------------------------------------------------------------------------------------------------------------------------------------------------------------------------------------------------------------------------------------------------------------------------------------------------------------------------------------------+\n",
            "|          2|One of the best g...|                                                                                                                                                                                                                                                                                                                                                                                                                                                                                                                           Despite the fact ...|\n",
            "|          1|Batteries died wi...|                                                                                                                                                                                                                                                                                                                                                                                                                                                                                                                           I bought this cha...|\n",
            "|          2|works fine, but M...|                                                                                                                                                                                                                                                                                                                                                                                                                                                                                                                           Check out Maha En...|\n",
            "|          2|Great for the non...|                                                                                                                                                                                                                                                                                                                                                                                                                                                                                                                           Reviewed quite a ...|\n",
            "|          1|DVD Player crappe...|                                                                                                                                                                                                                                                                                                                                                                                                                                                                                                                           I also began havi...|\n",
            "|          1|      Incorrect Disc|                                                                                                                                                                                                                                                                                                                                                                                                                                                                                                                           I love the style ...|\n",
            "|          1|DVD menu select p...|                                                                                                                                                                                                                                                                                                                                                                                                                                                                                                                           I cannot scroll t...|\n",
            "|          2|Unique Weird Orie...|                                                                                                                                                                                                                                                                                                                                                                                                                                                                                                                           \"Exotic tales of ...|\n",
            "|          1|\"Not an \"\"ultimat...|                                                                                                                                                                                                                                                                                                                                                                                                                                                                                                                           Firstly,I enjoyed...|\n",
            "|          2|Great book for tr...|                                                                                                                                                                                                                                                                                                                                                                                                                                                                                                                           I currently live ...|\n",
            "+-----------+--------------------+-----------------------------------------------------------------------------------------------------------------------------------------------------------------------------------------------------------------------------------------------------------------------------------------------------------------------------------------------------------------------------------------------------------------------------------------------------------------------------------------------------------------------------------------------+\n",
            "only showing top 10 rows\n",
            "\n"
          ]
        }
      ]
    },
    {
      "cell_type": "code",
      "execution_count": 4,
      "metadata": {
        "colab": {
          "base_uri": "https://localhost:8080/"
        },
        "id": "T6QRE706AlFd",
        "outputId": "de73b72b-a1d3-4038-d3c5-23e92d7abb98"
      },
      "outputs": [
        {
          "output_type": "stream",
          "name": "stdout",
          "text": [
            "Total rows in train dataset: 399999\n"
          ]
        }
      ],
      "source": [
        "# Count the total number of rows\n",
        "train_count = train_df.count()\n",
        "print(f\"Total rows in train dataset: {train_count}\")"
      ]
    },
    {
      "cell_type": "code",
      "source": [
        "# Ensure partitioning for distributed processing (if applicable)\n",
        "train_df = train_df.repartition(4)  # Adjust partitions based on dataset size\n"
      ],
      "metadata": {
        "id": "xIcniFrODL57"
      },
      "execution_count": 6,
      "outputs": []
    },
    {
      "cell_type": "code",
      "source": [
        "from pyspark.sql.functions import col\n",
        "\n",
        "old_columns = train_df.columns\n",
        "\n",
        "# Assuming the problematic column is the first one (index 0), replace it with a new name\n",
        "# Adjust the index if it's a different column\n",
        "new_columns = ['review_text' if col == old_columns[0] else col for col in old_columns]\n",
        "\n",
        "# Rename the columns in the DataFrame\n",
        "train_df = train_df.toDF(*new_columns)"
      ],
      "metadata": {
        "id": "5e-VhCSnCfTq"
      },
      "execution_count": 7,
      "outputs": []
    },
    {
      "cell_type": "code",
      "source": [
        "# Remove duplicates\n",
        "train_df = train_df.dropDuplicates()\n",
        "\n",
        "# Debugging: Print column names and schema\n",
        "print(\"Columns:\", train_df.columns)\n",
        "train_df.printSchema()\n"
      ],
      "metadata": {
        "colab": {
          "base_uri": "https://localhost:8080/"
        },
        "id": "n-LKKjHkFp6I",
        "outputId": "b159fd38-bbe1-40ba-db4a-7d977dc9f498"
      },
      "execution_count": 8,
      "outputs": [
        {
          "output_type": "stream",
          "name": "stdout",
          "text": [
            "Columns: ['review_text', 'Great CD', '\"My lovely Pat has one of the GREAT voices of her generation. I have listened to this CD for YEARS and I still LOVE IT. When I\\'m in a good mood it makes me feel better. A bad mood just evaporates like sugar in the rain. This CD just oozes LIFE. Vocals are jusat STUUNNING and lyrics just kill. One of life\\'s hidden gems. This is a desert isle CD in my book. Why she never made it big is just beyond me. Everytime I play this, no matter black, white, young, old, male, female EVERYBODY says one thing \"\"Who was that singing ?\"\"\"']\n",
            "root\n",
            " |-- review_text: integer (nullable = true)\n",
            " |-- Great CD: string (nullable = true)\n",
            " |-- \"My lovely Pat has one of the GREAT voices of her generation. I have listened to this CD for YEARS and I still LOVE IT. When I'm in a good mood it makes me feel better. A bad mood just evaporates like sugar in the rain. This CD just oozes LIFE. Vocals are jusat STUUNNING and lyrics just kill. One of life's hidden gems. This is a desert isle CD in my book. Why she never made it big is just beyond me. Everytime I play this, no matter black, white, young, old, male, female EVERYBODY says one thing \"\"Who was that singing ?\"\"\": string (nullable = true)\n",
            "\n"
          ]
        }
      ]
    },
    {
      "cell_type": "code",
      "source": [
        "\n",
        "# Convert columns to appropriate data types\n",
        "# Example: Convert a column to integer\n",
        "train_df = train_df.withColumn(\"Great CD\", col(\"`Great CD`\").cast(\"string\"))\n",
        "\n",
        "# Filter out invalid rows (e.g., where column values do not meet specific conditions)\n",
        "train_df = train_df.filter(col(\"review_text\") > 0)"
      ],
      "metadata": {
        "id": "1sIpwagDEuPP"
      },
      "execution_count": 9,
      "outputs": []
    },
    {
      "cell_type": "code",
      "source": [
        "# Normalize/scale numeric columns if necessary (example using a custom UDF)\n",
        "from pyspark.sql.functions import udf\n",
        "from pyspark.sql.types import FloatType\n",
        "\n",
        "# Example: custom UDF to scale a column\n",
        "@udf(FloatType())\n",
        "def scale_column(value):\n",
        "    # Implement scaling formula here\n",
        "    return value / 100.0  # Example scaling by dividing by 100\n",
        "\n",
        "train_df = train_df.withColumn(\"scaled_column\", scale_column(col(\"review_text\")))\n"
      ],
      "metadata": {
        "id": "2pwI2KdNGaKL"
      },
      "execution_count": 10,
      "outputs": []
    },
    {
      "cell_type": "code",
      "source": [
        "# Register the DataFrame as a temporary view\n",
        "train_df.createOrReplaceTempView(\"train_view\")"
      ],
      "metadata": {
        "id": "s5LQTk8bGzbb"
      },
      "execution_count": 11,
      "outputs": []
    },
    {
      "cell_type": "code",
      "source": [
        "# Aggregation query: Summary statistics\n",
        "spark.sql(\"SELECT AVG(scaled_column), STDDEV(scaled_column) FROM train_view\").show()\n"
      ],
      "metadata": {
        "colab": {
          "base_uri": "https://localhost:8080/"
        },
        "id": "rynx8dOqHexs",
        "outputId": "8f53bd51-e7b9-4a43-ac6e-05e7adf04b09"
      },
      "execution_count": 12,
      "outputs": [
        {
          "output_type": "stream",
          "name": "stdout",
          "text": [
            "+--------------------+---------------------+\n",
            "|  avg(scaled_column)|stddev(scaled_column)|\n",
            "+--------------------+---------------------+\n",
            "|0.015000037165191792| 0.005000006138190...|\n",
            "+--------------------+---------------------+\n",
            "\n"
          ]
        }
      ]
    },
    {
      "cell_type": "code",
      "source": [
        "# Grouping and filtering query\n",
        "spark.sql(\"SELECT `Great CD`, AVG(scaled_column) FROM train_view GROUP BY `Great CD`\").show()"
      ],
      "metadata": {
        "colab": {
          "base_uri": "https://localhost:8080/"
        },
        "id": "28Q8GeuiG3w-",
        "outputId": "40428495-2013-4fbc-a86d-e2a3af7fa251"
      },
      "execution_count": 13,
      "outputs": [
        {
          "output_type": "stream",
          "name": "stdout",
          "text": [
            "+--------------------+--------------------+\n",
            "|            Great CD|  avg(scaled_column)|\n",
            "+--------------------+--------------------+\n",
            "|         It's a Gift|0.019999999552965164|\n",
            "|             Amazing| 0.01994999955408275|\n",
            "|the best barbie i...|0.019999999552965164|\n",
            "|toooo cute...and ...|0.009999999776482582|\n",
            "|Chapters show how...|0.019999999552965164|\n",
            "| Excellent Reference|0.019999999552965164|\n",
            "|    Arrived damaged.|0.009999999776482582|\n",
            "|Too Limited in it...|0.009999999776482582|\n",
            "|What's Up with my...|0.009999999776482582|\n",
            "|Silly, Obnoxious ...|0.009999999776482582|\n",
            "|             rip-off|0.009999999776482582|\n",
            "|              Rehash|0.009999999776482582|\n",
            "|the mike leg is t...|0.009999999776482582|\n",
            "|  Unreliable Product|0.009999999776482582|\n",
            "|           Surprise!|0.019999999552965164|\n",
            "|       One of a Kind|0.019999999552965164|\n",
            "|Great Collection ...|0.019999999552965164|\n",
            "|Not overly thrilling|0.009999999776482582|\n",
            "|             Skip it|0.009999999776482582|\n",
            "|  Didn't work at all|0.009999999776482582|\n",
            "+--------------------+--------------------+\n",
            "only showing top 20 rows\n",
            "\n"
          ]
        }
      ]
    },
    {
      "cell_type": "code",
      "source": [
        "# Join example (if applicable)\n",
        "# Example: spark.sql(\"SELECT * FROM train_view t1 JOIN other_table t2 ON t1.key = t2.key\")\n",
        "\n",
        "# Time-based analysis (if timestamp exists)\n",
        "# Example for daily aggregation\n",
        "spark.sql(\"SELECT date_trunc('day', current_timestamp()) as day, AVG(scaled_column) FROM train_view GROUP BY day\").show()\n",
        "\n",
        "# Insights: Extract patterns and document findings\n",
        "\n"
      ],
      "metadata": {
        "colab": {
          "base_uri": "https://localhost:8080/"
        },
        "id": "hPTJL295G6xc",
        "outputId": "08b0c089-219f-45f8-898d-5004cb634435"
      },
      "execution_count": 14,
      "outputs": [
        {
          "output_type": "stream",
          "name": "stdout",
          "text": [
            "+-------------------+--------------------+\n",
            "|                day|  avg(scaled_column)|\n",
            "+-------------------+--------------------+\n",
            "|2024-11-25 00:00:00|0.015000037165191792|\n",
            "+-------------------+--------------------+\n",
            "\n"
          ]
        }
      ]
    },
    {
      "cell_type": "code",
      "source": [
        "from pyspark.ml.feature import VectorAssembler\n",
        "from pyspark.ml.regression import LinearRegression\n",
        "from pyspark.ml.classification import LogisticRegression\n",
        "from pyspark.ml.evaluation import RegressionEvaluator, MulticlassClassificationEvaluator\n",
        "from pyspark.ml import Pipeline\n",
        "from pyspark.ml.feature import StringIndexer"
      ],
      "metadata": {
        "id": "0k2oXg3eH6OP"
      },
      "execution_count": 25,
      "outputs": []
    },
    {
      "cell_type": "code",
      "source": [
        "# Define feature columns and the label\n",
        "feature_columns = [\"review_text\", \"scaled_column\"]  # Replace with existing features from train_data\n",
        "assembler = VectorAssembler(inputCols=feature_columns, outputCol=\"features\")\n",
        "\n"
      ],
      "metadata": {
        "id": "2sIXFL7rH7A0"
      },
      "execution_count": 26,
      "outputs": []
    },
    {
      "cell_type": "code",
      "source": [
        "# Split data\n",
        "train_data, test_data = train_df.randomSplit([0.8, 0.2], seed=1234)\n"
      ],
      "metadata": {
        "id": "WTL3_3wJH9Jz"
      },
      "execution_count": 27,
      "outputs": []
    },
    {
      "cell_type": "code",
      "source": [
        "# Choose model type\n",
        "# Regression\n",
        "model = LinearRegression(featuresCol=\"features\", labelCol=\"Great CD\")\n",
        "\n"
      ],
      "metadata": {
        "id": "BnTOZU1TH_am"
      },
      "execution_count": 28,
      "outputs": []
    },
    {
      "cell_type": "code",
      "source": [
        "# Classification example\n",
        "# model = LogisticRegression(featuresCol=\"features\", labelCol=\"target_column\")\n",
        "\n",
        "# Create a pipeline\n",
        "pipeline = Pipeline(stages=[assembler, model])\n",
        "\n"
      ],
      "metadata": {
        "id": "73ciClOWIEIv"
      },
      "execution_count": 29,
      "outputs": []
    },
    {
      "cell_type": "code",
      "source": [
        "from pyspark.sql.functions import col\n",
        "train_data = train_data.withColumn(\"Great CD\", col(\"Great CD\").cast(\"double\"))\n"
      ],
      "metadata": {
        "id": "_qULCA8yMMtC"
      },
      "execution_count": 30,
      "outputs": []
    },
    {
      "cell_type": "code",
      "source": [
        "from pyspark.sql.functions import when\n",
        "train_data = train_data.withColumn(\n",
        "    \"Great CD\",\n",
        "    when(col(\"Great CD\").cast(\"double\").isNotNull(), col(\"Great CD\").cast(\"double\")).otherwise(0)\n",
        ")\n"
      ],
      "metadata": {
        "id": "vJa82zm_MHap"
      },
      "execution_count": 31,
      "outputs": []
    },
    {
      "cell_type": "code",
      "source": [
        "# Fit the model\n",
        "trained_model = pipeline.fit(train_data)\n",
        "\n",
        "# Evaluate the model\n",
        "predictions = trained_model.transform(test_data)\n"
      ],
      "metadata": {
        "id": "TLngKZo7II90"
      },
      "execution_count": 32,
      "outputs": []
    },
    {
      "cell_type": "code",
      "source": [
        "predictions.printSchema()\n"
      ],
      "metadata": {
        "colab": {
          "base_uri": "https://localhost:8080/"
        },
        "id": "kZmm7t0dM_NQ",
        "outputId": "02f6d55b-cd3f-40de-dcac-33b8cc3b39bb"
      },
      "execution_count": 35,
      "outputs": [
        {
          "output_type": "stream",
          "name": "stdout",
          "text": [
            "root\n",
            " |-- review_text: integer (nullable = true)\n",
            " |-- Great CD: string (nullable = true)\n",
            " |-- \"My lovely Pat has one of the GREAT voices of her generation. I have listened to this CD for YEARS and I still LOVE IT. When I'm in a good mood it makes me feel better. A bad mood just evaporates like sugar in the rain. This CD just oozes LIFE. Vocals are jusat STUUNNING and lyrics just kill. One of life's hidden gems. This is a desert isle CD in my book. Why she never made it big is just beyond me. Everytime I play this, no matter black, white, young, old, male, female EVERYBODY says one thing \"\"Who was that singing ?\"\"\": string (nullable = true)\n",
            " |-- scaled_column: float (nullable = true)\n",
            " |-- features: vector (nullable = true)\n",
            " |-- prediction: double (nullable = false)\n",
            "\n"
          ]
        }
      ]
    },
    {
      "cell_type": "code",
      "source": [
        "# Regression evaluation\n",
        "evaluator = RegressionEvaluator(labelCol=\"scaled_column\", predictionCol=\"prediction\", metricName=\"rmse\")\n",
        "\n",
        "predictions.show(5)\n"
      ],
      "metadata": {
        "colab": {
          "base_uri": "https://localhost:8080/"
        },
        "id": "kMp2K4tQK451",
        "outputId": "911b8c34-ff24-40e8-fca5-528724ebed2b"
      },
      "execution_count": 38,
      "outputs": [
        {
          "output_type": "stream",
          "name": "stdout",
          "text": [
            "+-----------+--------------------+-----------------------------------------------------------------------------------------------------------------------------------------------------------------------------------------------------------------------------------------------------------------------------------------------------------------------------------------------------------------------------------------------------------------------------------------------------------------------------------------------------------------------------------------------+-------------+--------------------+-------------------+\n",
            "|review_text|            Great CD|\"My lovely Pat has one of the GREAT voices of her generation. I have listened to this CD for YEARS and I still LOVE IT. When I'm in a good mood it makes me feel better. A bad mood just evaporates like sugar in the rain. This CD just oozes LIFE. Vocals are jusat STUUNNING and lyrics just kill. One of life's hidden gems. This is a desert isle CD in my book. Why she never made it big is just beyond me. Everytime I play this, no matter black, white, young, old, male, female EVERYBODY says one thing \"\"Who was that singing ?\"\"\"|scaled_column|            features|         prediction|\n",
            "+-----------+--------------------+-----------------------------------------------------------------------------------------------------------------------------------------------------------------------------------------------------------------------------------------------------------------------------------------------------------------------------------------------------------------------------------------------------------------------------------------------------------------------------------------------------------------------------------------------+-------------+--------------------+-------------------+\n",
            "|          1|                   !|                                                                                                                                                                                                                                                                                                                                                                                                                                                                                                                           This doll is VERY...|         0.01|[1.0,0.0099999997...|1.31799991401799E25|\n",
            "|          1| !!! NOT 2 BOGUS !!!|                                                                                                                                                                                                                                                                                                                                                                                                                                                                                                                           THESE GUYS ARE TI...|         0.01|[1.0,0.0099999997...|1.31799991401799E25|\n",
            "|          1|\"\"\"A Tribute Of T...|                                                                                                                                                                                                                                                                                                                                                                                                                                                                                                                           \"A Tribute Of The...|         0.01|[1.0,0.0099999997...|1.31799991401799E25|\n",
            "|          1|           \"\"\"Ack\"\"\"|                                                                                                                                                                                                                                                                                                                                                                                                                                                                                                                           \"Too many similar...|         0.01|[1.0,0.0099999997...|1.31799991401799E25|\n",
            "|          1|         \"\"\"Alive\"\"\"|                                                                                                                                                                                                                                                                                                                                                                                                                                                                                                                           Go P.O.D way to l...|         0.01|[1.0,0.0099999997...|1.31799991401799E25|\n",
            "+-----------+--------------------+-----------------------------------------------------------------------------------------------------------------------------------------------------------------------------------------------------------------------------------------------------------------------------------------------------------------------------------------------------------------------------------------------------------------------------------------------------------------------------------------------------------------------------------------------+-------------+--------------------+-------------------+\n",
            "only showing top 5 rows\n",
            "\n",
            "RMSE: 9.312639950520862e+24\n"
          ]
        }
      ]
    },
    {
      "cell_type": "code",
      "source": [
        "rmse = evaluator.evaluate(predictions)\n",
        "print(f\"RMSE: {rmse}\")"
      ],
      "metadata": {
        "colab": {
          "base_uri": "https://localhost:8080/"
        },
        "id": "-7QeQsGeNVns",
        "outputId": "3c0317c5-9449-41eb-e8fa-16eda3130d0f"
      },
      "execution_count": 39,
      "outputs": [
        {
          "output_type": "stream",
          "name": "stdout",
          "text": [
            "RMSE: 9.312639950520862e+24\n"
          ]
        }
      ]
    },
    {
      "cell_type": "code",
      "source": [
        "from pyspark.ml.tuning import CrossValidator, ParamGridBuilder\n",
        "\n",
        "# Set up hyperparameter grid\n",
        "paramGrid = ParamGridBuilder().addGrid(model.regParam, [0.1, 0.01]).addGrid(model.elasticNetParam, [0.8, 0.5]).build()\n"
      ],
      "metadata": {
        "id": "mQVX6O1gNjoK"
      },
      "execution_count": 41,
      "outputs": []
    },
    {
      "cell_type": "code",
      "source": [
        "# Set up cross-validation\n",
        "crossval = CrossValidator(estimator=pipeline, estimatorParamMaps=paramGrid, evaluator=evaluator, numFolds=3)\n"
      ],
      "metadata": {
        "id": "lSdUXRWTNm96"
      },
      "execution_count": 42,
      "outputs": []
    },
    {
      "cell_type": "code",
      "source": [
        "# Run cross-validation and select the best model\n",
        "cv_model = crossval.fit(train_data)\n"
      ],
      "metadata": {
        "id": "QgmbugQPNn6K"
      },
      "execution_count": 43,
      "outputs": []
    },
    {
      "cell_type": "code",
      "source": [
        "# Evaluate the best model on test data\n",
        "final_predictions = cv_model.transform(test_data)\n",
        "final_rmse = evaluator.evaluate(final_predictions)\n",
        "print(f\"Final RMSE on test data: {final_rmse}\")\n"
      ],
      "metadata": {
        "colab": {
          "base_uri": "https://localhost:8080/"
        },
        "id": "jDxhWB3NNfUZ",
        "outputId": "633b6307-e7f9-4e6c-8325-da9e416045f1"
      },
      "execution_count": 44,
      "outputs": [
        {
          "output_type": "stream",
          "name": "stdout",
          "text": [
            "Final RMSE on test data: 0.015162731255109056\n"
          ]
        }
      ]
    }
  ]
}